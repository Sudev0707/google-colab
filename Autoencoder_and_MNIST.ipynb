{
  "nbformat": 4,
  "nbformat_minor": 0,
  "metadata": {
    "colab": {
      "name": "Autoencoder and MNIST.ipynb",
      "provenance": []
    },
    "kernelspec": {
      "name": "python3",
      "display_name": "Python 3"
    },
    "language_info": {
      "name": "python"
    },
    "accelerator": "GPU"
  },
  "cells": [
    {
      "cell_type": "code",
      "execution_count": 3,
      "metadata": {
        "id": "RtLqb9nf-HqD"
      },
      "outputs": [],
      "source": [
        "import random\n",
        "                       \n",
        "import pandas as pd                       \n",
        "import matplotlib.pyplot as plt                       \n",
        "import numpy as np"
      ]
    },
    {
      "cell_type": "code",
      "source": [
        "from google.colab import drive\n",
        "drive.mount('/content/drive')"
      ],
      "metadata": {
        "colab": {
          "base_uri": "https://localhost:8080/"
        },
        "id": "7AeF6UUs6dX0",
        "outputId": "9f523f96-0a65-4e92-91c6-1b622d413666"
      },
      "execution_count": 4,
      "outputs": [
        {
          "output_type": "stream",
          "name": "stdout",
          "text": [
            "Mounted at /content/drive\n"
          ]
        }
      ]
    },
    {
      "cell_type": "code",
      "source": [
        "df = pd.read_csv('drive/My Drive/Colab Notebooks/mnist_test.csv')\n",
        "df = pd.read_csv('drive/My Drive/Colab Notebooks/mnist_train.csv')"
      ],
      "metadata": {
        "id": "MJhwyiee-YOL"
      },
      "execution_count": 5,
      "outputs": []
    },
    {
      "cell_type": "code",
      "source": [
        "anom = df[:1000]\n",
        "clean = df[1000:]"
      ],
      "metadata": {
        "id": "n_FY3u1R-ccd"
      },
      "execution_count": 6,
      "outputs": []
    },
    {
      "cell_type": "code",
      "source": [
        "print(anom,'\\n','\\n')\n",
        "print(clean)"
      ],
      "metadata": {
        "id": "ObC-TjIoARMO",
        "colab": {
          "base_uri": "https://localhost:8080/"
        },
        "outputId": "4aa676b8-004c-4fe6-caf8-56160dc78034"
      },
      "execution_count": 7,
      "outputs": [
        {
          "output_type": "stream",
          "name": "stdout",
          "text": [
            "     label  1x1  1x2  1x3  1x4  1x5  1x6  1x7  1x8  1x9  ...  28x19  28x20  \\\n",
            "0        5    0    0    0    0    0    0    0    0    0  ...      0      0   \n",
            "1        0    0    0    0    0    0    0    0    0    0  ...      0      0   \n",
            "2        4    0    0    0    0    0    0    0    0    0  ...      0      0   \n",
            "3        1    0    0    0    0    0    0    0    0    0  ...      0      0   \n",
            "4        9    0    0    0    0    0    0    0    0    0  ...      0      0   \n",
            "..     ...  ...  ...  ...  ...  ...  ...  ...  ...  ...  ...    ...    ...   \n",
            "995      7    0    0    0    0    0    0    0    0    0  ...      0      0   \n",
            "996      6    0    0    0    0    0    0    0    0    0  ...      0      0   \n",
            "997      0    0    0    0    0    0    0    0    0    0  ...      0      0   \n",
            "998      3    0    0    0    0    0    0    0    0    0  ...      0      0   \n",
            "999      6    0    0    0    0    0    0    0    0    0  ...      0      0   \n",
            "\n",
            "     28x21  28x22  28x23  28x24  28x25  28x26  28x27  28x28  \n",
            "0        0      0      0      0      0      0      0      0  \n",
            "1        0      0      0      0      0      0      0      0  \n",
            "2        0      0      0      0      0      0      0      0  \n",
            "3        0      0      0      0      0      0      0      0  \n",
            "4        0      0      0      0      0      0      0      0  \n",
            "..     ...    ...    ...    ...    ...    ...    ...    ...  \n",
            "995      0      0      0      0      0      0      0      0  \n",
            "996      0      0      0      0      0      0      0      0  \n",
            "997      0      0      0      0      0      0      0      0  \n",
            "998      0      0      0      0      0      0      0      0  \n",
            "999      0      0      0      0      0      0      0      0  \n",
            "\n",
            "[1000 rows x 785 columns] \n",
            " \n",
            "\n",
            "       label  1x1  1x2  1x3  1x4  1x5  1x6  1x7  1x8  1x9  ...  28x19  28x20  \\\n",
            "1000       0    0    0    0    0    0    0    0    0    0  ...      0      0   \n",
            "1001       7    0    0    0    0    0    0    0    0    0  ...      0      0   \n",
            "1002       1    0    0    0    0    0    0    0    0    0  ...      0      0   \n",
            "1003       1    0    0    0    0    0    0    0    0    0  ...      0      0   \n",
            "1004       4    0    0    0    0    0    0    0    0    0  ...      0      0   \n",
            "...      ...  ...  ...  ...  ...  ...  ...  ...  ...  ...  ...    ...    ...   \n",
            "59995      8    0    0    0    0    0    0    0    0    0  ...      0      0   \n",
            "59996      3    0    0    0    0    0    0    0    0    0  ...      0      0   \n",
            "59997      5    0    0    0    0    0    0    0    0    0  ...      0      0   \n",
            "59998      6    0    0    0    0    0    0    0    0    0  ...      0      0   \n",
            "59999      8    0    0    0    0    0    0    0    0    0  ...      0      0   \n",
            "\n",
            "       28x21  28x22  28x23  28x24  28x25  28x26  28x27  28x28  \n",
            "1000       0      0      0      0      0      0      0      0  \n",
            "1001       0      0      0      0      0      0      0      0  \n",
            "1002       0      0      0      0      0      0      0      0  \n",
            "1003       0      0      0      0      0      0      0      0  \n",
            "1004       0      0      0      0      0      0      0      0  \n",
            "...      ...    ...    ...    ...    ...    ...    ...    ...  \n",
            "59995      0      0      0      0      0      0      0      0  \n",
            "59996      0      0      0      0      0      0      0      0  \n",
            "59997      0      0      0      0      0      0      0      0  \n",
            "59998      0      0      0      0      0      0      0      0  \n",
            "59999      0      0      0      0      0      0      0      0  \n",
            "\n",
            "[59000 rows x 785 columns]\n"
          ]
        }
      ]
    },
    {
      "cell_type": "code",
      "source": [
        " "
      ],
      "metadata": {
        "id": "kdBaA6lX6r0e"
      },
      "execution_count": 9,
      "outputs": []
    },
    {
      "cell_type": "code",
      "source": [
        "for i in range(len(anom)):\n",
        "    # select row from anom\n",
        "    row = anom.iloc[i]\n",
        "    # iterate through each element in row\n",
        "    for i in range(len(row)-1):\n",
        "        # add noise to element\n",
        "        row[i+1] = min(255, row[i+1]+random.randint(100,200))"
      ],
      "metadata": {
        "id": "ceQpVmY86_D-"
      },
      "execution_count": 8,
      "outputs": []
    },
    {
      "cell_type": "code",
      "source": [
        "anom['label'] = 1\n",
        "clean['label'] = 0"
      ],
      "metadata": {
        "colab": {
          "base_uri": "https://localhost:8080/"
        },
        "id": "Co7VLiLX6_3E",
        "outputId": "bb15e7b2-63e7-43b8-e64c-99ca67ad9094"
      },
      "execution_count": 9,
      "outputs": [
        {
          "output_type": "stream",
          "name": "stderr",
          "text": [
            "/usr/local/lib/python3.7/dist-packages/ipykernel_launcher.py:1: SettingWithCopyWarning: \n",
            "A value is trying to be set on a copy of a slice from a DataFrame.\n",
            "Try using .loc[row_indexer,col_indexer] = value instead\n",
            "\n",
            "See the caveats in the documentation: https://pandas.pydata.org/pandas-docs/stable/user_guide/indexing.html#returning-a-view-versus-a-copy\n",
            "  \"\"\"Entry point for launching an IPython kernel.\n",
            "/usr/local/lib/python3.7/dist-packages/ipykernel_launcher.py:2: SettingWithCopyWarning: \n",
            "A value is trying to be set on a copy of a slice from a DataFrame.\n",
            "Try using .loc[row_indexer,col_indexer] = value instead\n",
            "\n",
            "See the caveats in the documentation: https://pandas.pydata.org/pandas-docs/stable/user_guide/indexing.html#returning-a-view-versus-a-copy\n",
            "  \n"
          ]
        }
      ]
    },
    {
      "cell_type": "code",
      "source": [
        "an_test = pd.concat([anom, clean])  # join\n",
        "an_test.sample(frac=1)              # shuffle\n",
        "an_test.to_csv('anom.csv')          # save"
      ],
      "metadata": {
        "id": "M7G9RpcL7QlB"
      },
      "execution_count": 10,
      "outputs": []
    },
    {
      "cell_type": "markdown",
      "source": [
        " ##        "
      ],
      "metadata": {
        "id": "ni2LbgZU7iDm"
      }
    },
    {
      "cell_type": "markdown",
      "source": [
        "### **Autoencoder**"
      ],
      "metadata": {
        "id": "Kh4sdahY7olY"
      }
    },
    {
      "cell_type": "code",
      "source": [
        "import torch.nn as nn"
      ],
      "metadata": {
        "id": "MbzszYIM7tPT"
      },
      "execution_count": 11,
      "outputs": []
    },
    {
      "cell_type": "code",
      "source": [
        "class AE(nn.Module):\n",
        "    def __init__(self):\n",
        "        super(AE, self).__init__()\n",
        "        self.enc = nn.Sequential(\n",
        "            nn.Linear(784, 512),\n",
        "            nn.ReLU(),\n",
        "            nn.Linear(512, 256),\n",
        "            nn.ReLU(),\n",
        "            nn.Linear(256, 128),\n",
        "            nn.ReLU(),\n",
        "            nn.Linear(128, 64),\n",
        "            nn.ReLU(),\n",
        "            nn.Linear(64, 32),\n",
        "            nn.ReLU(),\n",
        "            nn.Linear(32, 16),\n",
        "            nn.ReLU()\n",
        "        )\n",
        "        self.dec = nn.Sequential(\n",
        "            nn.Linear(16, 32),\n",
        "            nn.ReLU(),\n",
        "            nn.Linear(32, 64),\n",
        "            nn.ReLU(),\n",
        "            nn.Linear(64, 128),\n",
        "            nn.ReLU(),\n",
        "            nn.Linear(128, 256),\n",
        "            nn.ReLU(),\n",
        "            nn.Linear(256, 512),\n",
        "            nn.ReLU(),\n",
        "            nn.Linear(512, 784),\n",
        "            nn.ReLU()\n",
        "        )\n",
        "    def forward(self, x):\n",
        "        encode = self.enc(x)\n",
        "        decode = self.dec(encode)\n",
        "        return decode"
      ],
      "metadata": {
        "id": "fkfhySLf73O1"
      },
      "execution_count": 12,
      "outputs": []
    },
    {
      "cell_type": "markdown",
      "source": [
        "#### **training and predicting** "
      ],
      "metadata": {
        "id": "LQJkPInw8GWL"
      }
    },
    {
      "cell_type": "code",
      "source": [
        "import torch\n",
        "import time\n",
        "import random\n",
        "import matplotlib.pyplot as plt\n",
        "import torch.nn as nn\n",
        "import numpy as np\n",
        "import pandas as pd\n",
        "import seaborn as sns\n",
        "from collections import defaultdict\n",
        "from datetime import timedelta"
      ],
      "metadata": {
        "id": "2PoXkBK8791i"
      },
      "execution_count": 16,
      "outputs": []
    },
    {
      "cell_type": "code",
      "source": [
        "batch_size = 32\n",
        "lr = 1e-2         # learning rate\n",
        "w_d = 1e-5        # weight decay\n",
        "momentum = 0.9   \n",
        "epochs = 15"
      ],
      "metadata": {
        "id": "wOKFLDh58P4V"
      },
      "execution_count": 13,
      "outputs": []
    },
    {
      "cell_type": "markdown",
      "source": [
        "#### **Training**"
      ],
      "metadata": {
        "id": "x_BeZpDe8Ybw"
      }
    },
    {
      "cell_type": "code",
      "source": [
        "class Loader(torch.utils.data.Dataset):\n",
        "    def __init__(self):\n",
        "        super(Loader, self).__init__()\n",
        "        self.dataset = ''\n",
        "    \n",
        "    def __len__(self):\n",
        "        return len(self.dataset)\n",
        "    \n",
        "    def __getitem__(self, idx):\n",
        "        row = self.dataset.iloc[idx]\n",
        "        row = row.drop(labels={'label'})\n",
        "        data = torch.from_numpy(np.array(row)/255).float()\n",
        "        return data\n",
        "    \n",
        "class Train_Loader(Loader):\n",
        "    def __init__(self):\n",
        "        super(Train_Loader, self).__init__()\n",
        "        self.dataset = pd.read_csv(\n",
        "                       'drive/My Drive/Colab Notebooks/mnist_train.csv',\n",
        "                       index_col=False\n",
        "                       )"
      ],
      "metadata": {
        "id": "3NfS27I08Tzx"
      },
      "execution_count": 17,
      "outputs": []
    },
    {
      "cell_type": "code",
      "source": [
        "# PyTorch DataLoader class:\n",
        "\n",
        "train_set = Train_Loader()\n",
        "train_ = torch.utils.data.DataLoader(\n",
        "            train_set,\n",
        "            batch_size=batch_size,\n",
        "            shuffle=True,\n",
        "            num_workers=20,\n",
        "            pin_memory=True,\n",
        "            drop_last=True\n",
        "        )"
      ],
      "metadata": {
        "colab": {
          "base_uri": "https://localhost:8080/"
        },
        "id": "R2bcal588dFe",
        "outputId": "25eb0976-6c87-494e-dafe-acc2d09668db"
      },
      "execution_count": 18,
      "outputs": [
        {
          "output_type": "stream",
          "name": "stderr",
          "text": [
            "/usr/local/lib/python3.7/dist-packages/torch/utils/data/dataloader.py:490: UserWarning: This DataLoader will create 20 worker processes in total. Our suggested max number of worker in current system is 2, which is smaller than what this DataLoader is going to create. Please be aware that excessive worker creation might get DataLoader running slow or even freeze, lower the worker number to avoid potential slowness/freeze if necessary.\n",
            "  cpuset_checked))\n"
          ]
        }
      ]
    },
    {
      "cell_type": "code",
      "source": [
        "metrics = defaultdict(list)\n",
        "device = 'cuda' if torch.cuda.is_available() else 'cpu'\n",
        "model = AE()\n",
        "model.to(device)\n",
        "criterion = nn.MSELoss(reduction='mean')\n",
        "optimizer = torch.optim.SGD(model.parameters(), lr=lr, weight_decay=w_d)"
      ],
      "metadata": {
        "id": "p7aCo6VY8lZ-"
      },
      "execution_count": 19,
      "outputs": []
    },
    {
      "cell_type": "code",
      "source": [
        "# train the model with loop\n",
        "\n",
        "\n",
        "model.train()\n",
        "start = time.time()\n",
        "for epoch in range(epochs):\n",
        "    ep_start = time.time()\n",
        "    running_loss = 0.0\n",
        "    for bx, (data) in enumerate(train_):\n",
        "        sample = model(data.to(device))\n",
        "        loss = criterion(data.to(device), sample)\n",
        "        optimizer.zero_grad()\n",
        "        loss.backward()\n",
        "        optimizer.step()\n",
        "        running_loss += loss.item()\n",
        "    epoch_loss = running_loss/len(train_set)\n",
        "    metrics['train_loss'].append(epoch_loss)\n",
        "    ep_end = time.time()\n",
        "    print('-----------------------------------------------')\n",
        "    print('[EPOCH] {}/{}\\n[LOSS] {}'.format(epoch+1,epochs,epoch_loss))\n",
        "    print('Epoch Complete in {}'.format(timedelta(seconds=ep_end-ep_start)))\n",
        "end = time.time()\n",
        "print('-----------------------------------------------')\n",
        "print('[System Complete: {}]'.format(timedelta(seconds=end-start)))"
      ],
      "metadata": {
        "colab": {
          "base_uri": "https://localhost:8080/"
        },
        "id": "fTP0vYdi9jfi",
        "outputId": "7e2633f7-7521-4a5d-aa29-d5891e6b2bb9"
      },
      "execution_count": 20,
      "outputs": [
        {
          "output_type": "stream",
          "name": "stderr",
          "text": [
            "/usr/local/lib/python3.7/dist-packages/torch/utils/data/dataloader.py:490: UserWarning: This DataLoader will create 20 worker processes in total. Our suggested max number of worker in current system is 2, which is smaller than what this DataLoader is going to create. Please be aware that excessive worker creation might get DataLoader running slow or even freeze, lower the worker number to avoid potential slowness/freeze if necessary.\n",
            "  cpuset_checked))\n"
          ]
        },
        {
          "output_type": "stream",
          "name": "stdout",
          "text": [
            "-----------------------------------------------\n",
            "[EPOCH] 1/15\n",
            "[LOSS] 0.0033507320060084263\n",
            "Epoch Complete in 0:00:55.952723\n",
            "-----------------------------------------------\n",
            "[EPOCH] 2/15\n",
            "[LOSS] 0.003247024132311344\n",
            "Epoch Complete in 0:00:53.677067\n",
            "-----------------------------------------------\n",
            "[EPOCH] 3/15\n",
            "[LOSS] 0.0031346719364325204\n",
            "Epoch Complete in 0:00:50.847898\n",
            "-----------------------------------------------\n",
            "[EPOCH] 4/15\n",
            "[LOSS] 0.003008505614846945\n",
            "Epoch Complete in 0:00:50.520403\n",
            "-----------------------------------------------\n",
            "[EPOCH] 5/15\n",
            "[LOSS] 0.0028771639928221703\n",
            "Epoch Complete in 0:00:51.660592\n",
            "-----------------------------------------------\n",
            "[EPOCH] 6/15\n",
            "[LOSS] 0.002758556891232729\n",
            "Epoch Complete in 0:00:51.360776\n",
            "-----------------------------------------------\n",
            "[EPOCH] 7/15\n",
            "[LOSS] 0.002675507429863016\n",
            "Epoch Complete in 0:00:51.108800\n",
            "-----------------------------------------------\n",
            "[EPOCH] 8/15\n",
            "[LOSS] 0.0026286427102983\n",
            "Epoch Complete in 0:00:51.176249\n",
            "-----------------------------------------------\n",
            "[EPOCH] 9/15\n",
            "[LOSS] 0.002605040091648698\n",
            "Epoch Complete in 0:00:50.779813\n",
            "-----------------------------------------------\n",
            "[EPOCH] 10/15\n",
            "[LOSS] 0.0025929160197575886\n",
            "Epoch Complete in 0:00:52.041227\n",
            "-----------------------------------------------\n",
            "[EPOCH] 11/15\n",
            "[LOSS] 0.002587158124273022\n",
            "Epoch Complete in 0:00:54.778427\n",
            "-----------------------------------------------\n",
            "[EPOCH] 12/15\n",
            "[LOSS] 0.0025847271277258796\n",
            "Epoch Complete in 0:00:53.954494\n",
            "-----------------------------------------------\n",
            "[EPOCH] 13/15\n",
            "[LOSS] 0.0025836897681156793\n",
            "Epoch Complete in 0:00:54.244071\n",
            "-----------------------------------------------\n",
            "[EPOCH] 14/15\n",
            "[LOSS] 0.0025832430043568216\n",
            "Epoch Complete in 0:00:53.194829\n",
            "-----------------------------------------------\n",
            "[EPOCH] 15/15\n",
            "[LOSS] 0.002583049511288603\n",
            "Epoch Complete in 0:00:53.249240\n",
            "-----------------------------------------------\n",
            "[System Complete: 0:13:08.566802]\n"
          ]
        }
      ]
    },
    {
      "cell_type": "code",
      "source": [
        "_, ax = plt.subplots(1,1,figsize=(15,10))\n",
        "ax.set_title('Loss')\n",
        "ax.plot(metrics['train_loss'])"
      ],
      "metadata": {
        "colab": {
          "base_uri": "https://localhost:8080/",
          "height": 624
        },
        "id": "JSlDC2L_9vxk",
        "outputId": "9c876a7e-b85b-4375-9837-a9143f78346a"
      },
      "execution_count": 21,
      "outputs": [
        {
          "output_type": "execute_result",
          "data": {
            "text/plain": [
              "[<matplotlib.lines.Line2D at 0x7fbb2179cf10>]"
            ]
          },
          "metadata": {},
          "execution_count": 21
        },
        {
          "output_type": "display_data",
          "data": {
            "text/plain": [
              "<Figure size 1080x720 with 1 Axes>"
            ],
            "image/png": "[encoded data removed]"
          },
          "metadata": {
            "needs_background": "light"
          }
        }
      ]
    },
    {
      "cell_type": "code",
      "source": [
        ""
      ],
      "metadata": {
        "id": "CvulPyCx-NY2"
      },
      "execution_count": null,
      "outputs": []
    },
    {
      "cell_type": "markdown",
      "source": [
        "**Prediction**"
      ],
      "metadata": {
        "id": "vPynaBoPI96d"
      }
    },
    {
      "cell_type": "code",
      "source": [
        "model.eval()\n",
        "loss_dist = []\n",
        "anom = pd.read_csv('anom.csv', index_col=[0])\n",
        "#for bx, data in enumerate(test_):\n",
        "for i in range(len(anom)):\n",
        "    data = torch.from_numpy(np.array(anom.iloc[i][1:])/255).float()\n",
        "    sample = model(data.to(device))\n",
        "    loss = criterion(data.to(device), sample)\n",
        "    loss_dist.append(loss.item())"
      ],
      "metadata": {
        "id": "aPF-IqzhJB6Z"
      },
      "execution_count": 23,
      "outputs": []
    },
    {
      "cell_type": "code",
      "source": [
        "loss_sc = []\n",
        "for i in loss_dist:\n",
        "    loss_sc.append((i,i))\n",
        "plt.scatter(*zip(*loss_sc))\n",
        "plt.axvline(0.3, 0.0, 1)"
      ],
      "metadata": {
        "colab": {
          "base_uri": "https://localhost:8080/",
          "height": 282
        },
        "id": "lvIHZ5mjJFPI",
        "outputId": "2c0c01f8-cb62-47c0-a410-7f90101d8bfe"
      },
      "execution_count": 24,
      "outputs": [
        {
          "output_type": "execute_result",
          "data": {
            "text/plain": [
              "<matplotlib.lines.Line2D at 0x7fbb219b6d10>"
            ]
          },
          "metadata": {},
          "execution_count": 24
        },
        {
          "output_type": "display_data",
          "data": {
            "text/plain": [
              "<Figure size 432x288 with 1 Axes>"
            ],
            "image/png": "[encoded data removed]"
          },
          "metadata": {
            "needs_background": "light"
          }
        }
      ]
    },
    {
      "cell_type": "code",
      "source": [
        "lower_threshold = 0.0\n",
        "upper_threshold = 0.3\n",
        "plt.figure(figsize=(12,6))\n",
        "plt.title('Loss Distribution')\n",
        "sns.distplot(loss_dist,bins=100,kde=True, color='blue')\n",
        "plt.axvline(upper_threshold, 0.0, 10, color='r')\n",
        "plt.axvline(lower_threshold, 0.0, 10, color='b')"
      ],
      "metadata": {
        "colab": {
          "base_uri": "https://localhost:8080/",
          "height": 462
        },
        "id": "4G9NHEI6O0gY",
        "outputId": "88fccb3b-116a-4969-d667-cd99f48270c0"
      },
      "execution_count": 25,
      "outputs": [
        {
          "output_type": "stream",
          "name": "stderr",
          "text": [
            "/usr/local/lib/python3.7/dist-packages/seaborn/distributions.py:2619: FutureWarning: `distplot` is a deprecated function and will be removed in a future version. Please adapt your code to use either `displot` (a figure-level function with similar flexibility) or `histplot` (an axes-level function for histograms).\n",
            "  warnings.warn(msg, FutureWarning)\n"
          ]
        },
        {
          "output_type": "execute_result",
          "data": {
            "text/plain": [
              "<matplotlib.lines.Line2D at 0x7fbb21730090>"
            ]
          },
          "metadata": {},
          "execution_count": 25
        },
        {
          "output_type": "display_data",
          "data": {
            "text/plain": [
              "<Figure size 864x432 with 1 Axes>"
            ],
            "image/png": "[encoded data removed]"
          },
          "metadata": {
            "needs_background": "light"
          }
        }
      ]
    },
    {
      "cell_type": "code",
      "source": [
        "df = pd.read_csv('anom.csv', index_col=[0])\n",
        "ddf = pd.DataFrame(columns=df.columns)\n",
        "tp = 0\n",
        "fp = 0\n",
        "tn = 0\n",
        "fn = 0\n",
        "total_anom = 0\n",
        "for i in range(len(loss_dist)):\n",
        "    total_anom += df.iloc[i]['label']\n",
        "    if loss_dist[i] >= upper_threshold:\n",
        "        n_df = pd.DataFrame([df.iloc[i]])\n",
        "        n_df['loss'] = loss_dist[i]\n",
        "        ddf = pd.concat([df,n_df], sort = True)\n",
        "        if float(df.iloc[i]['label']) == 1.0:\n",
        "            tp += 1\n",
        "        else:\n",
        "            fp += 1\n",
        "    else:\n",
        "        if float(df.iloc[i]['label']) == 1.0:\n",
        "            fn += 1\n",
        "        else:\n",
        "            tn += 1\n",
        "print('[TP] {}\\t[FP] {}\\t[MISSED] {}'.format(tp, fp, total_anom-tp))\n",
        "print('[TN] {}\\t[FN] {}'.format(tn, fn))"
      ],
      "metadata": {
        "colab": {
          "base_uri": "https://localhost:8080/"
        },
        "id": "RYQHkgDoO5LT",
        "outputId": "97b25863-0a3d-44f7-d4f3-182b3d87ae88"
      },
      "execution_count": 27,
      "outputs": [
        {
          "output_type": "stream",
          "name": "stdout",
          "text": [
            "[TP] 1000\t[FP] 0\t[MISSED] 0\n",
            "[TN] 59000\t[FN] 0\n"
          ]
        }
      ]
    },
    {
      "cell_type": "code",
      "source": [
        "conf = [[tn,fp],[fn,tp]]\n",
        "plt.figure()\n",
        "sns.heatmap(conf,annot=True,annot_kws={\"size\": 16},fmt='g')"
      ],
      "metadata": {
        "colab": {
          "base_uri": "https://localhost:8080/",
          "height": 282
        },
        "id": "TsMX609pPAVF",
        "outputId": "8d3498bc-2a1f-4b06-fe46-353040479b32"
      },
      "execution_count": 28,
      "outputs": [
        {
          "output_type": "execute_result",
          "data": {
            "text/plain": [
              "<matplotlib.axes._subplots.AxesSubplot at 0x7fbb204b56d0>"
            ]
          },
          "metadata": {},
          "execution_count": 28
        },
        {
          "output_type": "display_data",
          "data": {
            "text/plain": [
              "<Figure size 432x288 with 2 Axes>"
            ],
            "image/png": "[encoded data removed]"
          },
          "metadata": {
            "needs_background": "light"
          }
        }
      ]
    },
    {
      "cell_type": "code",
      "source": [
        ""
      ],
      "metadata": {
        "id": "VqrgNT-sP9NW"
      },
      "execution_count": null,
      "outputs": []
    }
  ]
}